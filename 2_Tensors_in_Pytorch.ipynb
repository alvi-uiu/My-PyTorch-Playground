{
  "nbformat": 4,
  "nbformat_minor": 0,
  "metadata": {
    "colab": {
      "provenance": [],
      "gpuType": "T4"
    },
    "kernelspec": {
      "name": "python3",
      "display_name": "Python 3"
    },
    "language_info": {
      "name": "python"
    },
    "accelerator": "GPU"
  },
  "cells": [
    {
      "cell_type": "markdown",
      "source": [
        "### Author : Riasad Alvi\n",
        "### Date   : 21 March 2025"
      ],
      "metadata": {
        "id": "JIAqzNiiPMzt"
      }
    },
    {
      "cell_type": "markdown",
      "source": [
        "A **tensor** in PyTorch is a multi-dimensional array, similar to a NumPy array, but with additional capabilities for GPU acceleration and support for automatic differentiation (gradients).\n",
        "\n",
        "### Key Points:\n",
        "1. **Multi-dimensional**: Tensors can have any number of dimensions (e.g., scalar, vector, matrix, or higher-dimensional arrays).\n",
        "2. **GPU Support**: Tensors can be moved to a GPU for faster computations.\n",
        "3. **Automatic Differentiation**: Tensors support gradients, allowing easy calculation of derivatives for optimization in machine learning.\n",
        "\n",
        "### Why We Need Tensors:\n",
        "- **Efficient Computation**: Tensors allow efficient mathematical operations on large datasets, especially with GPU support.\n",
        "- **Machine Learning**: They are the fundamental data structure in neural networks for holding inputs, weights, and gradients."
      ],
      "metadata": {
        "id": "tZuGjLqqPVWy"
      }
    },
    {
      "cell_type": "code",
      "execution_count": 1,
      "metadata": {
        "id": "t19_gq09KjvE"
      },
      "outputs": [],
      "source": [
        "import torch"
      ]
    },
    {
      "cell_type": "markdown",
      "source": [
        "## Creating a Tensor"
      ],
      "metadata": {
        "id": "BFcs4wpz4wlA"
      }
    },
    {
      "cell_type": "code",
      "source": [
        "# empty() creates a tensor of uninitialized values.\n",
        "\n",
        "a = torch.empty(2, 3)\n",
        "\n",
        "# Example:\n",
        "# Creates a tensor of shape (2, 3) with random, uninitialized values.\n",
        "# The values inside are not zero and are unpredictable.\n",
        "\n",
        "print(a)"
      ],
      "metadata": {
        "id": "AYzOQK7n4nNq",
        "colab": {
          "base_uri": "https://localhost:8080/"
        },
        "outputId": "cd728602-ec34-4e1b-88f3-e7440b852371"
      },
      "execution_count": 10,
      "outputs": [
        {
          "output_type": "stream",
          "name": "stdout",
          "text": [
            "tensor([[2.8684e-36, 0.0000e+00, 0.0000e+00],\n",
            "        [7.0417e-34, 0.0000e+00, 0.0000e+00]])\n"
          ]
        }
      ]
    },
    {
      "cell_type": "code",
      "source": [
        "# check type\n",
        "type(a)"
      ],
      "metadata": {
        "colab": {
          "base_uri": "https://localhost:8080/"
        },
        "id": "cSOoTAZY5FR1",
        "outputId": "626766ef-5c6d-4015-feb6-4026cdb56e7d"
      },
      "execution_count": 11,
      "outputs": [
        {
          "output_type": "execute_result",
          "data": {
            "text/plain": [
              "torch.Tensor"
            ]
          },
          "metadata": {},
          "execution_count": 11
        }
      ]
    },
    {
      "cell_type": "code",
      "source": [
        "# zeros() creates a tensor filled with zeros.\n",
        "\n",
        "# Creating a tensor of shape (2, 3) filled with zeros\n",
        "a = torch.zeros(2, 3)\n",
        "\n",
        "# Example:\n",
        "# Creates a tensor of shape (2, 3) where all values are 0.\n",
        "\n",
        "print(a)\n"
      ],
      "metadata": {
        "colab": {
          "base_uri": "https://localhost:8080/"
        },
        "id": "LxVQPOVN47Dt",
        "outputId": "1b44bbe1-73c5-46c0-a9b7-06dba751d978"
      },
      "execution_count": 12,
      "outputs": [
        {
          "output_type": "stream",
          "name": "stdout",
          "text": [
            "tensor([[0., 0., 0.],\n",
            "        [0., 0., 0.]])\n"
          ]
        }
      ]
    },
    {
      "cell_type": "code",
      "source": [
        "# ones() creates a tensor filled with ones.\n",
        "\n",
        "# Creating a tensor of shape (2, 3) filled with ones\n",
        "a = torch.ones(2, 3)\n",
        "\n",
        "# Example:\n",
        "# Creates a tensor of shape (2, 3) where all values are 1.\n",
        "\n",
        "print(a)\n"
      ],
      "metadata": {
        "colab": {
          "base_uri": "https://localhost:8080/"
        },
        "id": "U3-KPOlX48mT",
        "outputId": "73c2f2d9-5afa-435b-c667-ef7b9274b3f7"
      },
      "execution_count": 13,
      "outputs": [
        {
          "output_type": "stream",
          "name": "stdout",
          "text": [
            "tensor([[1., 1., 1.],\n",
            "        [1., 1., 1.]])\n"
          ]
        }
      ]
    },
    {
      "cell_type": "code",
      "source": [
        "# rand() creates a tensor filled with random values between 0 and 1.\n",
        "\n",
        "# Creating a tensor of shape (2, 3) with random values\n",
        "a = torch.rand(2, 3)\n",
        "\n",
        "# Example:\n",
        "# Creates a tensor of shape (2, 3) where values are randomly sampled from a uniform distribution between 0 and 1.\n",
        "\n",
        "print(a)\n"
      ],
      "metadata": {
        "colab": {
          "base_uri": "https://localhost:8080/"
        },
        "id": "U_j_mRGK4-DA",
        "outputId": "c023dde1-b51a-49a0-f50a-13eec5918fe0"
      },
      "execution_count": 14,
      "outputs": [
        {
          "output_type": "stream",
          "name": "stdout",
          "text": [
            "tensor([[0.4226, 0.1308, 0.9461],\n",
            "        [0.3849, 0.7780, 0.4698]])\n"
          ]
        }
      ]
    },
    {
      "cell_type": "code",
      "source": [
        "torch.rand(2,3)"
      ],
      "metadata": {
        "colab": {
          "base_uri": "https://localhost:8080/"
        },
        "id": "WDKo1YbS_Vwu",
        "outputId": "22ac6c61-fcb0-461b-b13a-cc60f48fb2d8"
      },
      "execution_count": 15,
      "outputs": [
        {
          "output_type": "execute_result",
          "data": {
            "text/plain": [
              "tensor([[0.3977, 0.8352, 0.7334],\n",
              "        [0.6700, 0.8025, 0.6209]])"
            ]
          },
          "metadata": {},
          "execution_count": 15
        }
      ]
    },
    {
      "cell_type": "markdown",
      "source": [
        "### Each time rand values will be different , but if we want random values once and use same value multiple times, then we need to use manual_seed:"
      ],
      "metadata": {
        "id": "xNMSUqIA-fxV"
      }
    },
    {
      "cell_type": "code",
      "source": [
        "# manual_seed() sets the seed for random number generation to ensure reproducibility.\n",
        "\n",
        "# Setting the seed for random number generation\n",
        "torch.manual_seed(100)\n",
        "\n",
        "# Creating a tensor of shape (2, 3) with random values\n",
        "a = torch.rand(2, 3)\n",
        "\n",
        "# Example:\n",
        "# By setting the seed, the random values generated will be the same every time the code is run.\n",
        "\n",
        "print(a)\n"
      ],
      "metadata": {
        "colab": {
          "base_uri": "https://localhost:8080/"
        },
        "id": "DvAqsoFG5UMr",
        "outputId": "e590e41b-0124-42a2-e317-acfcf1f94919"
      },
      "execution_count": 16,
      "outputs": [
        {
          "output_type": "stream",
          "name": "stdout",
          "text": [
            "tensor([[0.1117, 0.8158, 0.2626],\n",
            "        [0.4839, 0.6765, 0.7539]])\n"
          ]
        }
      ]
    },
    {
      "cell_type": "code",
      "source": [
        "# tensor() creates a tensor from a Python list or array.\n",
        "\n",
        "# Creating a tensor from a 2x3 list\n",
        "a = torch.tensor([[1, 2, 3], [4, 5, 6]])\n",
        "\n",
        "# Example:\n",
        "# Converts a Python list into a tensor with shape (2, 3).\n",
        "\n",
        "print(a)\n"
      ],
      "metadata": {
        "colab": {
          "base_uri": "https://localhost:8080/"
        },
        "id": "-YLLqcGB4_4J",
        "outputId": "ff2f208f-389f-4d24-dafa-f194610582d9"
      },
      "execution_count": 17,
      "outputs": [
        {
          "output_type": "stream",
          "name": "stdout",
          "text": [
            "tensor([[1, 2, 3],\n",
            "        [4, 5, 6]])\n"
          ]
        }
      ]
    },
    {
      "cell_type": "code",
      "source": [
        "# arange() creates a tensor with values in a specified range with a given step.\n",
        "\n",
        "print(\"using arange ->\", torch.arange(0, 10, 2))  # tensor([0, 2, 4, 6, 8])\n",
        "\n",
        "# linspace() creates a tensor with evenly spaced values over a specified interval.\n",
        "\n",
        "print(\"using linspace ->\", torch.linspace(0, 10, 10))  # tensor([ 0.,  1.25,  2.5, ..., 10.])\n",
        "\n",
        "# eye() creates an identity matrix of a given size.\n",
        "\n",
        "print(\"using eye ->\", torch.eye(5))  # 5x5 identity matrix\n",
        "\n",
        "# full() creates a tensor filled with a specified value.\n",
        "\n",
        "print(\"using full ->\", torch.full((3, 3), 5))  # tensor([[5, 5, 5], [5, 5, 5], [5, 5, 5]])\n"
      ],
      "metadata": {
        "colab": {
          "base_uri": "https://localhost:8080/"
        },
        "id": "nLj35yxr6Qgv",
        "outputId": "83af15eb-f6a9-4c55-eccd-9bb3f981356f"
      },
      "execution_count": 18,
      "outputs": [
        {
          "output_type": "stream",
          "name": "stdout",
          "text": [
            "using arange -> tensor([0, 2, 4, 6, 8])\n",
            "using linspace -> tensor([ 0.0000,  1.1111,  2.2222,  3.3333,  4.4444,  5.5556,  6.6667,  7.7778,\n",
            "         8.8889, 10.0000])\n",
            "using eye -> tensor([[1., 0., 0., 0., 0.],\n",
            "        [0., 1., 0., 0., 0.],\n",
            "        [0., 0., 1., 0., 0.],\n",
            "        [0., 0., 0., 1., 0.],\n",
            "        [0., 0., 0., 0., 1.]])\n",
            "using full -> tensor([[5, 5, 5],\n",
            "        [5, 5, 5],\n",
            "        [5, 5, 5]])\n"
          ]
        }
      ]
    },
    {
      "cell_type": "markdown",
      "source": [
        "## Tensor Shapes"
      ],
      "metadata": {
        "id": "0ejaUWSkinz0"
      }
    },
    {
      "cell_type": "code",
      "source": [
        "# Creating a tensor from a 2x3 list\n",
        "x = torch.tensor([[2, 3, 4], [5, 6, 7]])\n",
        "\n",
        "# Example:\n",
        "# Creates a tensor of shape (2, 3) with the given values.\n",
        "\n",
        "print(x)\n"
      ],
      "metadata": {
        "colab": {
          "base_uri": "https://localhost:8080/"
        },
        "id": "HDrr5mQ86R4K",
        "outputId": "674fd9be-06c6-49bf-f8fc-67e7c875fe8c"
      },
      "execution_count": 19,
      "outputs": [
        {
          "output_type": "stream",
          "name": "stdout",
          "text": [
            "tensor([[2, 3, 4],\n",
            "        [5, 6, 7]])\n"
          ]
        }
      ]
    },
    {
      "cell_type": "code",
      "source": [
        "x.shape"
      ],
      "metadata": {
        "colab": {
          "base_uri": "https://localhost:8080/"
        },
        "id": "xGZhrLablBq-",
        "outputId": "df6d8473-0f9a-42d3-fd71-70ccb21b1dc8"
      },
      "execution_count": 20,
      "outputs": [
        {
          "output_type": "execute_result",
          "data": {
            "text/plain": [
              "torch.Size([2, 3])"
            ]
          },
          "metadata": {},
          "execution_count": 20
        }
      ]
    },
    {
      "cell_type": "code",
      "source": [
        "# empty_like() creates a tensor with the same shape and type as the input tensor, but with uninitialized values.\n",
        "\n",
        "# Creating a tensor x\n",
        "x = torch.tensor([[2, 3, 4], [5, 6, 7]])\n",
        "\n",
        "# Using empty_like() to create a tensor of the same size and type as x, with random uninitialized values\n",
        "y = torch.empty_like(x)\n",
        "\n",
        "print(y)\n"
      ],
      "metadata": {
        "colab": {
          "base_uri": "https://localhost:8080/"
        },
        "id": "NEQW9QhmlKXA",
        "outputId": "66966971-c495-43f8-b1e2-2c6d883fca09"
      },
      "execution_count": 21,
      "outputs": [
        {
          "output_type": "stream",
          "name": "stdout",
          "text": [
            "tensor([[      168442736, 134290793225488, 134290793283728],\n",
            "        [      170401296, 134290793234128, 134290791720704]])\n"
          ]
        }
      ]
    },
    {
      "cell_type": "code",
      "source": [
        "# zeros_like() creates a tensor with the same shape and type as the input tensor, but filled with zeros.\n",
        "\n",
        "# Creating a tensor x\n",
        "x = torch.tensor([[2, 3, 4], [5, 6, 7]])\n",
        "\n",
        "# Using zeros_like() to create a tensor of the same size and type as x, filled with zeros\n",
        "y = torch.zeros_like(x)\n",
        "\n",
        "print(y)\n"
      ],
      "metadata": {
        "colab": {
          "base_uri": "https://localhost:8080/"
        },
        "id": "PyyKSNHTlXMU",
        "outputId": "c3d3cac9-de31-4464-8066-fd7d038ef536"
      },
      "execution_count": 22,
      "outputs": [
        {
          "output_type": "stream",
          "name": "stdout",
          "text": [
            "tensor([[0, 0, 0],\n",
            "        [0, 0, 0]])\n"
          ]
        }
      ]
    },
    {
      "cell_type": "code",
      "source": [
        "# ones_like() creates a tensor with the same shape and type as the input tensor, but filled with ones.\n",
        "\n",
        "# Creating a tensor x\n",
        "x = torch.tensor([[2, 3, 4], [5, 6, 7]])\n",
        "\n",
        "# Using ones_like() to create a tensor of the same size and type as x, filled with ones\n",
        "y = torch.ones_like(x)\n",
        "\n",
        "print(y)\n"
      ],
      "metadata": {
        "colab": {
          "base_uri": "https://localhost:8080/"
        },
        "id": "WtKV7Wxalb3l",
        "outputId": "d7cf8a12-6813-46af-9d0b-fd8502a9b591"
      },
      "execution_count": 23,
      "outputs": [
        {
          "output_type": "stream",
          "name": "stdout",
          "text": [
            "tensor([[1, 1, 1],\n",
            "        [1, 1, 1]])\n"
          ]
        }
      ]
    },
    {
      "cell_type": "code",
      "source": [
        "# rand_like() creates a tensor with the same shape and type as the input tensor, filled with random values between 0 and 1.\n",
        "# dtype=torch.float32 is specified because rand_like generates values in float32 by default.\n",
        "\n",
        "# Creating a tensor x\n",
        "x = torch.tensor([[2, 3, 4], [5, 6, 7]])\n",
        "\n",
        "# Using rand_like() to create a tensor of the same size as x with random float32 values\n",
        "y = torch.rand_like(x, dtype=torch.float32)\n",
        "\n",
        "print(y)\n"
      ],
      "metadata": {
        "colab": {
          "base_uri": "https://localhost:8080/"
        },
        "id": "1WS_uk8ileyH",
        "outputId": "720071a2-7b73-4da0-a4ca-14a44b9465ba"
      },
      "execution_count": 24,
      "outputs": [
        {
          "output_type": "stream",
          "name": "stdout",
          "text": [
            "tensor([[0.2627, 0.0428, 0.2080],\n",
            "        [0.1180, 0.1217, 0.7356]])\n"
          ]
        }
      ]
    },
    {
      "cell_type": "markdown",
      "source": [
        "## Tensor Data Types"
      ],
      "metadata": {
        "id": "nYM1fR5BmxIf"
      }
    },
    {
      "cell_type": "code",
      "source": [
        "# find data type\n",
        "x.dtype"
      ],
      "metadata": {
        "colab": {
          "base_uri": "https://localhost:8080/"
        },
        "id": "Jy-rBsKSliAe",
        "outputId": "92bd02d1-b627-4235-8ff2-78ce58ea9a7a"
      },
      "execution_count": 25,
      "outputs": [
        {
          "output_type": "execute_result",
          "data": {
            "text/plain": [
              "torch.int64"
            ]
          },
          "metadata": {},
          "execution_count": 25
        }
      ]
    },
    {
      "cell_type": "code",
      "source": [
        "# Creating a tensor with specified data type (int32)\n",
        "\n",
        "# Using tensor() with dtype=torch.int32 to create a tensor of integers\n",
        "x = torch.tensor([7.9, 8.99, 3.6], dtype=torch.int32)\n",
        "\n",
        "print(x)"
      ],
      "metadata": {
        "colab": {
          "base_uri": "https://localhost:8080/"
        },
        "id": "6T2gmrujnaMA",
        "outputId": "fdc0c6dd-93f1-42cb-807b-eae55fa13bcd"
      },
      "execution_count": 26,
      "outputs": [
        {
          "output_type": "stream",
          "name": "stdout",
          "text": [
            "tensor([7, 8, 3], dtype=torch.int32)\n"
          ]
        }
      ]
    },
    {
      "cell_type": "code",
      "source": [
        "torch.tensor([1,2,3], dtype=torch.float64)"
      ],
      "metadata": {
        "colab": {
          "base_uri": "https://localhost:8080/"
        },
        "id": "wZ8lMLsInffd",
        "outputId": "344db5b6-f79b-4bc2-889e-8591970f4927"
      },
      "execution_count": 27,
      "outputs": [
        {
          "output_type": "execute_result",
          "data": {
            "text/plain": [
              "tensor([1., 2., 3.], dtype=torch.float64)"
            ]
          },
          "metadata": {},
          "execution_count": 27
        }
      ]
    },
    {
      "cell_type": "code",
      "source": [
        "# to() is used to cast a tensor to a specified data type or device.\n",
        "\n",
        "# Creating a tensor of type int32\n",
        "x = torch.tensor([7.9, 8.99, 3.6], dtype=torch.int32)\n",
        "\n",
        "# Using to() to change the data type to float32\n",
        "x_float = x.to(torch.float32)\n",
        "\n",
        "print(x_float)"
      ],
      "metadata": {
        "colab": {
          "base_uri": "https://localhost:8080/"
        },
        "id": "WTAB-h_ing07",
        "outputId": "b1d2208d-6699-44b4-f3bb-63e74c3f888a"
      },
      "execution_count": 29,
      "outputs": [
        {
          "output_type": "stream",
          "name": "stdout",
          "text": [
            "tensor([7., 8., 3.])\n"
          ]
        }
      ]
    },
    {
      "cell_type": "markdown",
      "source": [
        "| **Data Type**             | **Dtype**         | **Description**                                                                                                                                                                |\n",
        "|---------------------------|-------------------|--------------------------------------------------------------------------------------------------------------------------------------------------------------------------------|\n",
        "| **32-bit Floating Point** | `torch.float32`   | Standard floating-point type used for most deep learning tasks. Provides a balance between precision and memory usage.                                                         |\n",
        "| **64-bit Floating Point** | `torch.float64`   | Double-precision floating point. Useful for high-precision numerical tasks but uses more memory.                                                                               |\n",
        "| **16-bit Floating Point** | `torch.float16`   | Half-precision floating point. Commonly used in mixed-precision training to reduce memory and computational overhead on modern GPUs.                                            |\n",
        "| **BFloat16**              | `torch.bfloat16`  | Brain floating-point format with reduced precision compared to `float16`. Used in mixed-precision training, especially on TPUs.                                                |\n",
        "| **8-bit Floating Point**  | `torch.float8`    | Ultra-low-precision floating point. Used for experimental applications and extreme memory-constrained environments (less common).                                               |\n",
        "| **8-bit Integer**         | `torch.int8`      | 8-bit signed integer. Used for quantized models to save memory and computation in inference.                                                                                   |\n",
        "| **16-bit Integer**        | `torch.int16`     | 16-bit signed integer. Useful for special numerical tasks requiring intermediate precision.                                                                                    |\n",
        "| **32-bit Integer**        | `torch.int32`     | Standard signed integer type. Commonly used for indexing and general-purpose numerical tasks.                                                                                  |\n",
        "| **64-bit Integer**        | `torch.int64`     | Long integer type. Often used for large indexing arrays or for tasks involving large numbers.                                                                                  |\n",
        "| **8-bit Unsigned Integer**| `torch.uint8`     | 8-bit unsigned integer. Commonly used for image data (e.g., pixel values between 0 and 255).                                                                                    |\n",
        "| **Boolean**               | `torch.bool`      | Boolean type, stores `True` or `False` values. Often used for masks in logical operations.                                                                                      |\n",
        "| **Complex 64**            | `torch.complex64` | Complex number type with 32-bit real and 32-bit imaginary parts. Used for scientific and signal processing tasks.                                                               |\n",
        "| **Complex 128**           | `torch.complex128`| Complex number type with 64-bit real and 64-bit imaginary parts. Offers higher precision but uses more memory.                                                                 |\n",
        "| **Quantized Integer**     | `torch.qint8`     | Quantized signed 8-bit integer. Used in quantized models for efficient inference.                                                                                              |\n",
        "| **Quantized Unsigned Integer** | `torch.quint8` | Quantized unsigned 8-bit integer. Often used for quantized tensors in image-related tasks.                                                                                     |\n"
      ],
      "metadata": {
        "id": "dLm25jhknmuQ"
      }
    },
    {
      "cell_type": "markdown",
      "source": [
        "## Mathematical operations"
      ],
      "metadata": {
        "id": "baPoka3lqpEQ"
      }
    },
    {
      "cell_type": "markdown",
      "source": [
        "### 1. Scalar operation"
      ],
      "metadata": {
        "id": "wre7rSdlqsOB"
      }
    },
    {
      "cell_type": "code",
      "source": [
        "x = torch.rand(2,2)\n",
        "x"
      ],
      "metadata": {
        "colab": {
          "base_uri": "https://localhost:8080/"
        },
        "id": "CS69nYyanqYD",
        "outputId": "fab0e4a3-74e9-44d9-b20e-2e33068f7305"
      },
      "execution_count": 30,
      "outputs": [
        {
          "output_type": "execute_result",
          "data": {
            "text/plain": [
              "tensor([[0.7118, 0.7876],\n",
              "        [0.4183, 0.9014]])"
            ]
          },
          "metadata": {},
          "execution_count": 30
        }
      ]
    },
    {
      "cell_type": "code",
      "source": [
        "# addition: Adds 2 to each element of the tensor\n",
        "print(x + 2)\n",
        "\n",
        "# subtraction: Subtracts 2 from each element of the tensor\n",
        "print(x - 2)\n",
        "\n",
        "# multiplication: Multiplies each element by 3\n",
        "print(x * 3)\n",
        "\n",
        "# division: Divides each element by 3 (returns float)\n",
        "print(x / 3)\n",
        "\n",
        "# integer division: Multiplies by 100, then performs integer division by 3\n",
        "print((x * 100) // 3)\n",
        "\n",
        "# mod: Computes the remainder when performing integer division by 3, then takes mod 2\n",
        "print(((x * 100) // 3) % 2)\n",
        "\n",
        "# power: Raises each element to the power of 2\n",
        "print(x ** 2)\n",
        "\n",
        "# Note: Operations are element-wise on the tensor.\n"
      ],
      "metadata": {
        "colab": {
          "base_uri": "https://localhost:8080/"
        },
        "id": "ztrwQq-cqyz9",
        "outputId": "631d3a47-96c7-47bb-a5f9-f0519bd226be"
      },
      "execution_count": 31,
      "outputs": [
        {
          "output_type": "stream",
          "name": "stdout",
          "text": [
            "tensor([[2.7118, 2.7876],\n",
            "        [2.4183, 2.9014]])\n",
            "tensor([[-1.2882, -1.2124],\n",
            "        [-1.5817, -1.0986]])\n",
            "tensor([[2.1353, 2.3627],\n",
            "        [1.2549, 2.7042]])\n",
            "tensor([[0.2373, 0.2625],\n",
            "        [0.1394, 0.3005]])\n",
            "tensor([[23., 26.],\n",
            "        [13., 30.]])\n",
            "tensor([[1., 0.],\n",
            "        [1., 0.]])\n",
            "tensor([[0.5066, 0.6203],\n",
            "        [0.1750, 0.8125]])\n"
          ]
        }
      ]
    },
    {
      "cell_type": "markdown",
      "source": [
        "### 2. Element wise operation"
      ],
      "metadata": {
        "id": "y2n84o2ZrGcY"
      }
    },
    {
      "cell_type": "code",
      "source": [
        "a = torch.rand(2,3)\n",
        "b = torch.rand(2,3)\n",
        "\n",
        "print(a)\n",
        "print(b)"
      ],
      "metadata": {
        "colab": {
          "base_uri": "https://localhost:8080/"
        },
        "id": "PcnbNatwq1_3",
        "outputId": "1116fcf3-3537-464e-fb3a-59eacbfe690e"
      },
      "execution_count": 32,
      "outputs": [
        {
          "output_type": "stream",
          "name": "stdout",
          "text": [
            "tensor([[0.9969, 0.7565, 0.2239],\n",
            "        [0.3023, 0.1784, 0.8238]])\n",
            "tensor([[0.5557, 0.9770, 0.4440],\n",
            "        [0.9478, 0.7445, 0.4892]])\n"
          ]
        }
      ]
    },
    {
      "cell_type": "code",
      "source": [
        "# add: Adds tensors a and b element-wise\n",
        "a + b\n",
        "\n",
        "# sub: Subtracts tensor b from tensor a element-wise\n",
        "a - b\n",
        "\n",
        "# multiply: Multiplies tensors a and b element-wise\n",
        "a * b\n",
        "\n",
        "# division: Divides tensor a by tensor b element-wise (returns float)\n",
        "a / b\n",
        "\n",
        "# power: Raises tensor a to the power of tensor b element-wise\n",
        "a ** b\n",
        "\n",
        "# mod: Computes the remainder when dividing tensor a by tensor b element-wise\n",
        "a % b\n",
        "\n",
        "# Note: Operations are element-wise between tensors a and b.\n"
      ],
      "metadata": {
        "colab": {
          "base_uri": "https://localhost:8080/"
        },
        "id": "Qye9acabrUae",
        "outputId": "8bb086c3-a8a4-44ae-bba2-9f9cc6968576"
      },
      "execution_count": 33,
      "outputs": [
        {
          "output_type": "execute_result",
          "data": {
            "text/plain": [
              "tensor([[0.4411, 0.7565, 0.2239],\n",
              "        [0.3023, 0.1784, 0.3346]])"
            ]
          },
          "metadata": {},
          "execution_count": 33
        }
      ]
    },
    {
      "cell_type": "code",
      "source": [
        "c = torch.tensor([1, -2, 3, -4])"
      ],
      "metadata": {
        "id": "ftIq3-30rnhR"
      },
      "execution_count": 34,
      "outputs": []
    },
    {
      "cell_type": "code",
      "source": [
        "# abs\n",
        "torch.abs(c)"
      ],
      "metadata": {
        "colab": {
          "base_uri": "https://localhost:8080/"
        },
        "id": "GHWZWPxWr4rG",
        "outputId": "fa161cb4-6b11-4e1c-e93b-c7465e3ebabf"
      },
      "execution_count": 35,
      "outputs": [
        {
          "output_type": "execute_result",
          "data": {
            "text/plain": [
              "tensor([1, 2, 3, 4])"
            ]
          },
          "metadata": {},
          "execution_count": 35
        }
      ]
    },
    {
      "cell_type": "code",
      "source": [
        "# negative\n",
        "torch.neg(c)"
      ],
      "metadata": {
        "colab": {
          "base_uri": "https://localhost:8080/"
        },
        "id": "kROGMVNtrtfT",
        "outputId": "1a97a1ea-5a6c-422e-c83f-112c1d05d85f"
      },
      "execution_count": 36,
      "outputs": [
        {
          "output_type": "execute_result",
          "data": {
            "text/plain": [
              "tensor([-1,  2, -3,  4])"
            ]
          },
          "metadata": {},
          "execution_count": 36
        }
      ]
    },
    {
      "cell_type": "code",
      "source": [
        "d = torch.tensor([1.9, 2.3, 3.7, 4.4])"
      ],
      "metadata": {
        "id": "U2RLWzlaryKh"
      },
      "execution_count": 37,
      "outputs": []
    },
    {
      "cell_type": "code",
      "source": [
        "# round: Rounds each element of tensor d to the nearest integer.\n",
        "\n",
        "torch.round(d)"
      ],
      "metadata": {
        "colab": {
          "base_uri": "https://localhost:8080/"
        },
        "id": "g4OrL7w9sAWF",
        "outputId": "2c2a23c5-93d1-4230-836b-42c8f3368224"
      },
      "execution_count": 39,
      "outputs": [
        {
          "output_type": "execute_result",
          "data": {
            "text/plain": [
              "tensor([2., 2., 4., 4.])"
            ]
          },
          "metadata": {},
          "execution_count": 39
        }
      ]
    },
    {
      "cell_type": "code",
      "source": [
        "# ceil\n",
        "torch.ceil(d)"
      ],
      "metadata": {
        "colab": {
          "base_uri": "https://localhost:8080/"
        },
        "id": "1fPsOYOAsEE6",
        "outputId": "18ba08fd-6a1e-4519-81e9-9ee7a195aef8"
      },
      "execution_count": 40,
      "outputs": [
        {
          "output_type": "execute_result",
          "data": {
            "text/plain": [
              "tensor([2., 3., 4., 5.])"
            ]
          },
          "metadata": {},
          "execution_count": 40
        }
      ]
    },
    {
      "cell_type": "code",
      "source": [
        "# floor\n",
        "torch.floor(d)"
      ],
      "metadata": {
        "colab": {
          "base_uri": "https://localhost:8080/"
        },
        "id": "ilT0yf1TsE6G",
        "outputId": "9e650716-3865-41de-a4b5-4f4abba4f400"
      },
      "execution_count": 41,
      "outputs": [
        {
          "output_type": "execute_result",
          "data": {
            "text/plain": [
              "tensor([1., 2., 3., 4.])"
            ]
          },
          "metadata": {},
          "execution_count": 41
        }
      ]
    },
    {
      "cell_type": "code",
      "source": [
        "d"
      ],
      "metadata": {
        "colab": {
          "base_uri": "https://localhost:8080/"
        },
        "id": "YFN9JX7rVnz2",
        "outputId": "fdbb98ec-f17a-49dd-e5ab-5f2cf795db97"
      },
      "execution_count": 42,
      "outputs": [
        {
          "output_type": "execute_result",
          "data": {
            "text/plain": [
              "tensor([1.9000, 2.3000, 3.7000, 4.4000])"
            ]
          },
          "metadata": {},
          "execution_count": 42
        }
      ]
    },
    {
      "cell_type": "code",
      "source": [
        "# clamp: Clamps each element of a tensor  to be within the specified range [min, max].\n",
        "\n",
        "torch.clamp(d, min=2, max=3)\n",
        "\n",
        "# Note: Values less than 2 are set to 2, and values greater than 3 are set to 3, keeping the rest unchanged.\n"
      ],
      "metadata": {
        "colab": {
          "base_uri": "https://localhost:8080/"
        },
        "id": "ZzVkY4xgsFvP",
        "outputId": "e26714e1-439d-452a-bf4a-c93b53a4c3a6"
      },
      "execution_count": 44,
      "outputs": [
        {
          "output_type": "execute_result",
          "data": {
            "text/plain": [
              "tensor([2.0000, 2.3000, 3.0000, 3.0000])"
            ]
          },
          "metadata": {},
          "execution_count": 44
        }
      ]
    },
    {
      "cell_type": "markdown",
      "source": [
        "### 3. Reduction operation"
      ],
      "metadata": {
        "id": "4vWfG_ZmsN0J"
      }
    },
    {
      "cell_type": "code",
      "source": [
        "# randint: Creates a tensor with random integers in the specified range [low, high).\n",
        "\n",
        "e = torch.randint(size=(2, 3), low=0, high=10, dtype=torch.float32)\n",
        "\n",
        "# Note: Generates a tensor of shape (2, 3) with random integers between 0 and 9, then casts them to float32.\n",
        "e"
      ],
      "metadata": {
        "colab": {
          "base_uri": "https://localhost:8080/"
        },
        "id": "JQBlGL52sGae",
        "outputId": "493d8d6a-c39c-44ac-834e-9b8b8e01edfc"
      },
      "execution_count": 45,
      "outputs": [
        {
          "output_type": "execute_result",
          "data": {
            "text/plain": [
              "tensor([[8., 0., 7.],\n",
              "        [0., 0., 9.]])"
            ]
          },
          "metadata": {},
          "execution_count": 45
        }
      ]
    },
    {
      "cell_type": "code",
      "source": [
        "# sum: Computes the sum of all elements in tensor e\n",
        "torch.sum(e)\n",
        "\n",
        "# sum along columns: Computes the sum of elements along each column (dim=0)\n",
        "torch.sum(e, dim=0)\n",
        "\n",
        "# sum along rows: Computes the sum of elements along each row (dim=1)\n",
        "torch.sum(e, dim=1)\n",
        "\n",
        "# Note: Sum is computed along the specified dimension (0 for columns, 1 for rows).\n"
      ],
      "metadata": {
        "colab": {
          "base_uri": "https://localhost:8080/"
        },
        "id": "9o8zMdUosWSs",
        "outputId": "392a54e0-d39c-4e29-ef4d-ee11fa4527a8"
      },
      "execution_count": 46,
      "outputs": [
        {
          "output_type": "execute_result",
          "data": {
            "text/plain": [
              "tensor([15.,  9.])"
            ]
          },
          "metadata": {},
          "execution_count": 46
        }
      ]
    },
    {
      "cell_type": "code",
      "source": [
        "# mean: Computes the mean of all elements in tensor e\n",
        "torch.mean(e)\n",
        "\n",
        "# mean along columns: Computes the mean of elements along each column (dim=0)\n",
        "torch.mean(e, dim=0)\n",
        "\n",
        "# Note: Mean is computed along the specified dimension (0 for columns).\n"
      ],
      "metadata": {
        "colab": {
          "base_uri": "https://localhost:8080/"
        },
        "id": "5Am6Hrdssl90",
        "outputId": "587fcdc0-87e7-4f0f-a9cd-338647c2846d"
      },
      "execution_count": 47,
      "outputs": [
        {
          "output_type": "execute_result",
          "data": {
            "text/plain": [
              "tensor([4., 0., 8.])"
            ]
          },
          "metadata": {},
          "execution_count": 47
        }
      ]
    },
    {
      "cell_type": "code",
      "source": [
        "# median: Computes the median of all elements in tensor e. The tensor must be of float type.\n",
        "\n",
        "torch.median(e)\n"
      ],
      "metadata": {
        "colab": {
          "base_uri": "https://localhost:8080/"
        },
        "id": "wIXESOkIs8M8",
        "outputId": "4bf82aba-4a71-4188-c83a-27af24793f61"
      },
      "execution_count": 49,
      "outputs": [
        {
          "output_type": "execute_result",
          "data": {
            "text/plain": [
              "tensor(0.)"
            ]
          },
          "metadata": {},
          "execution_count": 49
        }
      ]
    },
    {
      "cell_type": "code",
      "source": [
        "e = torch.rand(2,3)\n",
        "e"
      ],
      "metadata": {
        "colab": {
          "base_uri": "https://localhost:8080/"
        },
        "id": "LlMPUj_hTGhX",
        "outputId": "2a90343a-292a-4901-ad2f-30b8391061f3"
      },
      "execution_count": 54,
      "outputs": [
        {
          "output_type": "execute_result",
          "data": {
            "text/plain": [
              "tensor([[0.5163, 0.0359, 0.6476],\n",
              "        [0.3430, 0.3182, 0.5261]])"
            ]
          },
          "metadata": {},
          "execution_count": 54
        }
      ]
    },
    {
      "cell_type": "code",
      "source": [
        "# max: Computes the maximum value of all elements in tensor e\n",
        "torch.max(e)\n",
        "\n",
        "# min: Computes the minimum value of all elements in tensor e\n",
        "torch.min(e)\n"
      ],
      "metadata": {
        "colab": {
          "base_uri": "https://localhost:8080/"
        },
        "id": "RIs7y6cysnFT",
        "outputId": "5d880a90-1cbf-4b92-c836-2ac122a8d54a"
      },
      "execution_count": 55,
      "outputs": [
        {
          "output_type": "execute_result",
          "data": {
            "text/plain": [
              "tensor(0.0359)"
            ]
          },
          "metadata": {},
          "execution_count": 55
        }
      ]
    },
    {
      "cell_type": "code",
      "source": [
        "# prod: Computes the product of all elements in tensor e\n",
        "torch.prod(e)\n"
      ],
      "metadata": {
        "colab": {
          "base_uri": "https://localhost:8080/"
        },
        "id": "TIP4CUwasw4Q",
        "outputId": "945357b3-9ad2-4ec5-a187-016eb7eaea3b"
      },
      "execution_count": 56,
      "outputs": [
        {
          "output_type": "execute_result",
          "data": {
            "text/plain": [
              "tensor(0.0007)"
            ]
          },
          "metadata": {},
          "execution_count": 56
        }
      ]
    },
    {
      "cell_type": "code",
      "source": [
        "# std: Computes the standard deviation of all elements in tensor e\n",
        "torch.std(e)\n"
      ],
      "metadata": {
        "colab": {
          "base_uri": "https://localhost:8080/"
        },
        "id": "BAQIjNjwsyLF",
        "outputId": "80c0677a-4e1d-4bf4-c534-8fb51c2fedf6"
      },
      "execution_count": 57,
      "outputs": [
        {
          "output_type": "execute_result",
          "data": {
            "text/plain": [
              "tensor(0.2160)"
            ]
          },
          "metadata": {},
          "execution_count": 57
        }
      ]
    },
    {
      "cell_type": "code",
      "source": [
        "# variance\n",
        "torch.var(e)"
      ],
      "metadata": {
        "colab": {
          "base_uri": "https://localhost:8080/"
        },
        "id": "78S1Ggv_s2nC",
        "outputId": "4f2c6a7c-9d4b-4cb6-a8fb-03c9048a4705"
      },
      "execution_count": 58,
      "outputs": [
        {
          "output_type": "execute_result",
          "data": {
            "text/plain": [
              "tensor(0.0466)"
            ]
          },
          "metadata": {},
          "execution_count": 58
        }
      ]
    },
    {
      "cell_type": "code",
      "source": [
        "e"
      ],
      "metadata": {
        "colab": {
          "base_uri": "https://localhost:8080/"
        },
        "id": "AMDFOQdtgmHt",
        "outputId": "937a2525-19ff-4c6a-a6e5-0b5fdc26708c"
      },
      "execution_count": 59,
      "outputs": [
        {
          "output_type": "execute_result",
          "data": {
            "text/plain": [
              "tensor([[0.5163, 0.0359, 0.6476],\n",
              "        [0.3430, 0.3182, 0.5261]])"
            ]
          },
          "metadata": {},
          "execution_count": 59
        }
      ]
    },
    {
      "cell_type": "code",
      "source": [
        "# argmax: Returns the index of the maximum value in the flattened tensor\n",
        "torch.argmax(e)\n",
        "\n",
        "# Example: If The flattened view of a 2D tensor is [8, 7, 6, 9, 1, 8], argmax will give the maximum value (9) is at index 3."
      ],
      "metadata": {
        "colab": {
          "base_uri": "https://localhost:8080/"
        },
        "id": "EOtGIsd9s3UZ",
        "outputId": "78ed169f-2298-4130-ac3d-a70d34bf00f4"
      },
      "execution_count": 61,
      "outputs": [
        {
          "output_type": "execute_result",
          "data": {
            "text/plain": [
              "tensor(2)"
            ]
          },
          "metadata": {},
          "execution_count": 61
        }
      ]
    },
    {
      "cell_type": "code",
      "source": [
        "# argmin\n",
        "torch.argmin(e) # position of the min val"
      ],
      "metadata": {
        "colab": {
          "base_uri": "https://localhost:8080/"
        },
        "id": "J23C1bwes6TL",
        "outputId": "ec310509-5419-49bf-acff-5b3a823ac62b"
      },
      "execution_count": 62,
      "outputs": [
        {
          "output_type": "execute_result",
          "data": {
            "text/plain": [
              "tensor(1)"
            ]
          },
          "metadata": {},
          "execution_count": 62
        }
      ]
    },
    {
      "cell_type": "markdown",
      "source": [
        "### 4. Matrix operations"
      ],
      "metadata": {
        "id": "dw_h9fvMtLXw"
      }
    },
    {
      "cell_type": "code",
      "source": [
        "f = torch.randint(size=(2,3), low=0, high=10)\n",
        "g = torch.randint(size=(3,2), low=0, high=10)\n",
        "\n",
        "print(f)\n",
        "print(g)"
      ],
      "metadata": {
        "colab": {
          "base_uri": "https://localhost:8080/"
        },
        "id": "a54MqBBQs7BJ",
        "outputId": "e4150e19-1dfe-4c37-bf18-79ec7a769e5d"
      },
      "execution_count": 63,
      "outputs": [
        {
          "output_type": "stream",
          "name": "stdout",
          "text": [
            "tensor([[5, 9, 8],\n",
            "        [9, 7, 9]])\n",
            "tensor([[2, 6],\n",
            "        [7, 7],\n",
            "        [8, 3]])\n"
          ]
        }
      ]
    },
    {
      "cell_type": "code",
      "source": [
        "# matmul: Performs matrix multiplication between tensors f and g\n",
        "torch.matmul(f, g)"
      ],
      "metadata": {
        "colab": {
          "base_uri": "https://localhost:8080/"
        },
        "id": "BqQ7sNBctWfS",
        "outputId": "dc8df5e7-5269-442b-ce48-b349620005eb"
      },
      "execution_count": 64,
      "outputs": [
        {
          "output_type": "execute_result",
          "data": {
            "text/plain": [
              "tensor([[137, 117],\n",
              "        [139, 130]])"
            ]
          },
          "metadata": {},
          "execution_count": 64
        }
      ]
    },
    {
      "cell_type": "code",
      "source": [
        "vector1 = torch.tensor([1, 2])\n",
        "vector2 = torch.tensor([3, 4])\n",
        "\n",
        "# dot: Computes the dot product of two 1D tensors (vectors)\n",
        "torch.dot(vector1, vector2)"
      ],
      "metadata": {
        "colab": {
          "base_uri": "https://localhost:8080/"
        },
        "id": "CopN1Oe5tZrD",
        "outputId": "c69f685d-2893-4a83-907b-33aff170817a"
      },
      "execution_count": 65,
      "outputs": [
        {
          "output_type": "execute_result",
          "data": {
            "text/plain": [
              "tensor(11)"
            ]
          },
          "metadata": {},
          "execution_count": 65
        }
      ]
    },
    {
      "cell_type": "code",
      "source": [
        "f"
      ],
      "metadata": {
        "colab": {
          "base_uri": "https://localhost:8080/"
        },
        "id": "4iOiLUFSiZok",
        "outputId": "ca5a5105-e9e5-4768-e3d8-c12796f161a6"
      },
      "execution_count": 66,
      "outputs": [
        {
          "output_type": "execute_result",
          "data": {
            "text/plain": [
              "tensor([[5, 9, 8],\n",
              "        [9, 7, 9]])"
            ]
          },
          "metadata": {},
          "execution_count": 66
        }
      ]
    },
    {
      "cell_type": "code",
      "source": [
        "# transpose: Transposes the dimensions of tensor f, swapping dimension 0 (columns) with dimension 1 (rows)\n",
        "torch.transpose(f, 0, 1)\n"
      ],
      "metadata": {
        "colab": {
          "base_uri": "https://localhost:8080/"
        },
        "id": "9Imz3Vq6ta4y",
        "outputId": "a18dc08c-f7d8-4ab6-afc8-37a5752a38b6"
      },
      "execution_count": 67,
      "outputs": [
        {
          "output_type": "execute_result",
          "data": {
            "text/plain": [
              "tensor([[5, 9],\n",
              "        [9, 7],\n",
              "        [8, 9]])"
            ]
          },
          "metadata": {},
          "execution_count": 67
        }
      ]
    },
    {
      "cell_type": "code",
      "source": [
        "h = torch.randint(size=(3,3), low=0, high=10, dtype=torch.float32)\n",
        "h"
      ],
      "metadata": {
        "colab": {
          "base_uri": "https://localhost:8080/"
        },
        "id": "yEfuS9ZKtdSi",
        "outputId": "1f18296f-c723-4927-a6de-6725547ef678"
      },
      "execution_count": 68,
      "outputs": [
        {
          "output_type": "execute_result",
          "data": {
            "text/plain": [
              "tensor([[6., 1., 5.],\n",
              "        [5., 0., 4.],\n",
              "        [3., 8., 8.]])"
            ]
          },
          "metadata": {},
          "execution_count": 68
        }
      ]
    },
    {
      "cell_type": "code",
      "source": [
        "# det: Computes the determinant of a square matrix h\n",
        "torch.det(h)\n"
      ],
      "metadata": {
        "colab": {
          "base_uri": "https://localhost:8080/"
        },
        "id": "PqfUsUvttpXZ",
        "outputId": "25e2f946-00b5-4a2b-e8f0-065b565d7d17"
      },
      "execution_count": 69,
      "outputs": [
        {
          "output_type": "execute_result",
          "data": {
            "text/plain": [
              "tensor(-20.0000)"
            ]
          },
          "metadata": {},
          "execution_count": 69
        }
      ]
    },
    {
      "cell_type": "code",
      "source": [
        "# inverse: Computes the inverse of a square matrix h\n",
        "torch.inverse(h)\n"
      ],
      "metadata": {
        "colab": {
          "base_uri": "https://localhost:8080/"
        },
        "id": "X0khPormts14",
        "outputId": "29118ffc-1444-455d-a276-df03ddfdee17"
      },
      "execution_count": 70,
      "outputs": [
        {
          "output_type": "execute_result",
          "data": {
            "text/plain": [
              "tensor([[ 1.6000, -1.6000, -0.2000],\n",
              "        [ 1.4000, -1.6500, -0.0500],\n",
              "        [-2.0000,  2.2500,  0.2500]])"
            ]
          },
          "metadata": {},
          "execution_count": 70
        }
      ]
    },
    {
      "cell_type": "markdown",
      "source": [
        "### 5. Comparison operations"
      ],
      "metadata": {
        "id": "-lEkBmv5t1nB"
      }
    },
    {
      "cell_type": "code",
      "source": [
        "i = torch.randint(size=(2,3), low=0, high=10)\n",
        "j = torch.randint(size=(2,3), low=0, high=10)\n",
        "\n",
        "print(i)\n",
        "print(j)"
      ],
      "metadata": {
        "colab": {
          "base_uri": "https://localhost:8080/"
        },
        "id": "G89Keg-xtxUr",
        "outputId": "7bd009fd-9623-4b7e-fa62-c18859412570"
      },
      "execution_count": 71,
      "outputs": [
        {
          "output_type": "stream",
          "name": "stdout",
          "text": [
            "tensor([[3, 3, 5],\n",
            "        [0, 6, 4]])\n",
            "tensor([[0, 8, 4],\n",
            "        [7, 2, 3]])\n"
          ]
        }
      ]
    },
    {
      "cell_type": "code",
      "source": [
        "# greater than: Checks if elements in i are greater than corresponding elements in j\n",
        "i > j\n",
        "\n",
        "# less than: Checks if elements in i are less than corresponding elements in j\n",
        "i < j\n",
        "\n",
        "# equal to: Checks if elements in i are equal to corresponding elements in j\n",
        "i == j\n",
        "\n",
        "# not equal to: Checks if elements in i are not equal to corresponding elements in j\n",
        "i != j\n",
        "\n",
        "# greater than or equal to: Checks if elements in i are greater than or equal to corresponding elements in j\n",
        "i >= j\n",
        "\n",
        "# less than or equal to: Checks if elements in i are less than or equal to corresponding elements in j\n",
        "i <= j\n"
      ],
      "metadata": {
        "colab": {
          "base_uri": "https://localhost:8080/"
        },
        "id": "F5v--5uiuBWW",
        "outputId": "6a3f9a53-2b0c-4ff7-be21-7f0ba9a7bca8"
      },
      "execution_count": 72,
      "outputs": [
        {
          "output_type": "execute_result",
          "data": {
            "text/plain": [
              "tensor([[False,  True, False],\n",
              "        [ True, False, False]])"
            ]
          },
          "metadata": {},
          "execution_count": 72
        }
      ]
    },
    {
      "cell_type": "markdown",
      "source": [
        "### 6. Special functions"
      ],
      "metadata": {
        "id": "jd9JzlO1uaf3"
      }
    },
    {
      "cell_type": "code",
      "source": [
        "k = torch.randint(size=(2,3), low=0, high=10, dtype=torch.float32)\n",
        "k"
      ],
      "metadata": {
        "colab": {
          "base_uri": "https://localhost:8080/"
        },
        "id": "lKU6tQpyuY0M",
        "outputId": "20a0e5a5-ee73-4a5f-cfe6-742345a9c688"
      },
      "execution_count": 73,
      "outputs": [
        {
          "output_type": "execute_result",
          "data": {
            "text/plain": [
              "tensor([[8., 5., 6.],\n",
              "        [2., 9., 5.]])"
            ]
          },
          "metadata": {},
          "execution_count": 73
        }
      ]
    },
    {
      "cell_type": "code",
      "source": [
        "# log: Computes the natural logarithm of each element in tensor k\n",
        "torch.log(k)\n"
      ],
      "metadata": {
        "colab": {
          "base_uri": "https://localhost:8080/"
        },
        "id": "-gl1dhdVuDOE",
        "outputId": "e641dc3a-d4bd-45ef-9c98-f15cc6d3c548"
      },
      "execution_count": 74,
      "outputs": [
        {
          "output_type": "execute_result",
          "data": {
            "text/plain": [
              "tensor([[2.0794, 1.6094, 1.7918],\n",
              "        [0.6931, 2.1972, 1.6094]])"
            ]
          },
          "metadata": {},
          "execution_count": 74
        }
      ]
    },
    {
      "cell_type": "code",
      "source": [
        "# exp: Computes the exponential (e^x) of each element in tensor k\n",
        "torch.exp(k)\n"
      ],
      "metadata": {
        "colab": {
          "base_uri": "https://localhost:8080/"
        },
        "id": "rQSpBdkbujck",
        "outputId": "c238f186-04e5-4644-9043-a91716b96a04"
      },
      "execution_count": 75,
      "outputs": [
        {
          "output_type": "execute_result",
          "data": {
            "text/plain": [
              "tensor([[2.9810e+03, 1.4841e+02, 4.0343e+02],\n",
              "        [7.3891e+00, 8.1031e+03, 1.4841e+02]])"
            ]
          },
          "metadata": {},
          "execution_count": 75
        }
      ]
    },
    {
      "cell_type": "code",
      "source": [
        "# sqrt: Computes the square root of each element in tensor k\n",
        "torch.sqrt(k)\n"
      ],
      "metadata": {
        "colab": {
          "base_uri": "https://localhost:8080/"
        },
        "id": "gTDfXdbVukh0",
        "outputId": "e093f202-1495-497d-c11c-d4b56f8dd0d2"
      },
      "execution_count": 76,
      "outputs": [
        {
          "output_type": "execute_result",
          "data": {
            "text/plain": [
              "tensor([[2.8284, 2.2361, 2.4495],\n",
              "        [1.4142, 3.0000, 2.2361]])"
            ]
          },
          "metadata": {},
          "execution_count": 76
        }
      ]
    },
    {
      "cell_type": "code",
      "source": [
        "# sigmoid: Applies the sigmoid activation function to each element in tensor k\n",
        "torch.sigmoid(k)\n"
      ],
      "metadata": {
        "colab": {
          "base_uri": "https://localhost:8080/"
        },
        "id": "d-rbMIVPunhr",
        "outputId": "7e6d1079-b720-43ad-cb09-4b0666031192"
      },
      "execution_count": 77,
      "outputs": [
        {
          "output_type": "execute_result",
          "data": {
            "text/plain": [
              "tensor([[0.9997, 0.9933, 0.9975],\n",
              "        [0.8808, 0.9999, 0.9933]])"
            ]
          },
          "metadata": {},
          "execution_count": 77
        }
      ]
    },
    {
      "cell_type": "code",
      "source": [
        "# softmax\n",
        "torch.softmax(k, dim=0)"
      ],
      "metadata": {
        "colab": {
          "base_uri": "https://localhost:8080/"
        },
        "id": "X74chVfQusqf",
        "outputId": "597a9fd5-79e3-43bd-e9dd-d68ac72bbc2a"
      },
      "execution_count": 78,
      "outputs": [
        {
          "output_type": "execute_result",
          "data": {
            "text/plain": [
              "tensor([[0.9975, 0.0180, 0.7311],\n",
              "        [0.0025, 0.9820, 0.2689]])"
            ]
          },
          "metadata": {},
          "execution_count": 78
        }
      ]
    },
    {
      "cell_type": "code",
      "source": [
        "# relu\n",
        "torch.relu(k)"
      ],
      "metadata": {
        "colab": {
          "base_uri": "https://localhost:8080/"
        },
        "id": "JnLG2JbyutvC",
        "outputId": "ad2ea546-8cff-4450-9c99-bf356892a3ae"
      },
      "execution_count": 79,
      "outputs": [
        {
          "output_type": "execute_result",
          "data": {
            "text/plain": [
              "tensor([[8., 5., 6.],\n",
              "        [2., 9., 5.]])"
            ]
          },
          "metadata": {},
          "execution_count": 79
        }
      ]
    },
    {
      "cell_type": "markdown",
      "source": [
        "## Inplace Operations"
      ],
      "metadata": {
        "id": "JQ7im-Mz9Mu9"
      }
    },
    {
      "cell_type": "code",
      "source": [
        "m = torch.rand(2,3)\n",
        "n = torch.rand(2,3)\n",
        "\n",
        "print(m)\n",
        "print(n)"
      ],
      "metadata": {
        "colab": {
          "base_uri": "https://localhost:8080/"
        },
        "id": "mKVMTBq7uufZ",
        "outputId": "72715382-8051-435f-8d12-502feb9ba57f"
      },
      "execution_count": 80,
      "outputs": [
        {
          "output_type": "stream",
          "name": "stdout",
          "text": [
            "tensor([[0.2855, 0.2324, 0.9141],\n",
            "        [0.7668, 0.1659, 0.4393]])\n",
            "tensor([[0.2243, 0.8935, 0.0497],\n",
            "        [0.1780, 0.3011, 0.1893]])\n"
          ]
        }
      ]
    },
    {
      "cell_type": "code",
      "source": [
        "m.add(n) # this will create a new tensor , which might waste memory"
      ],
      "metadata": {
        "colab": {
          "base_uri": "https://localhost:8080/"
        },
        "id": "efJ44OB3rz4t",
        "outputId": "62f35dc4-a8f7-449a-fcce-80417505ed02"
      },
      "execution_count": 81,
      "outputs": [
        {
          "output_type": "execute_result",
          "data": {
            "text/plain": [
              "tensor([[0.5098, 1.1259, 0.9638],\n",
              "        [0.9448, 0.4670, 0.6286]])"
            ]
          },
          "metadata": {},
          "execution_count": 81
        }
      ]
    },
    {
      "cell_type": "code",
      "source": [
        "# add_: Adds tensor n to tensor m in place, modifying m directly\n",
        "m.add_(n)\n",
        "\n",
        "# Note: The underscore (_) indicates an in-place operation, meaning the result is stored in tensor m itself.\n"
      ],
      "metadata": {
        "colab": {
          "base_uri": "https://localhost:8080/"
        },
        "id": "HmN2o2Ge_j8h",
        "outputId": "c9f43946-4314-4926-c8c1-1282dc4d8b44"
      },
      "execution_count": 82,
      "outputs": [
        {
          "output_type": "execute_result",
          "data": {
            "text/plain": [
              "tensor([[0.5098, 1.1259, 0.9638],\n",
              "        [0.9448, 0.4670, 0.6286]])"
            ]
          },
          "metadata": {},
          "execution_count": 82
        }
      ]
    },
    {
      "cell_type": "code",
      "source": [
        "m"
      ],
      "metadata": {
        "colab": {
          "base_uri": "https://localhost:8080/"
        },
        "id": "1k8bPLhgAN64",
        "outputId": "3a236beb-6ec8-4c93-ac44-10ac4d2a1bf2"
      },
      "execution_count": 83,
      "outputs": [
        {
          "output_type": "execute_result",
          "data": {
            "text/plain": [
              "tensor([[0.5098, 1.1259, 0.9638],\n",
              "        [0.9448, 0.4670, 0.6286]])"
            ]
          },
          "metadata": {},
          "execution_count": 83
        }
      ]
    },
    {
      "cell_type": "code",
      "source": [
        "n"
      ],
      "metadata": {
        "colab": {
          "base_uri": "https://localhost:8080/"
        },
        "id": "d_pBAPcGAkHW",
        "outputId": "cb213029-2121-4543-8ca6-8087c3c8b026"
      },
      "execution_count": 84,
      "outputs": [
        {
          "output_type": "execute_result",
          "data": {
            "text/plain": [
              "tensor([[0.2243, 0.8935, 0.0497],\n",
              "        [0.1780, 0.3011, 0.1893]])"
            ]
          },
          "metadata": {},
          "execution_count": 84
        }
      ]
    },
    {
      "cell_type": "code",
      "source": [
        "torch.relu(m)"
      ],
      "metadata": {
        "colab": {
          "base_uri": "https://localhost:8080/"
        },
        "id": "8OhePrDbAmwh",
        "outputId": "39862f3c-f30d-49f5-cb2b-5cb9bbabf475"
      },
      "execution_count": 85,
      "outputs": [
        {
          "output_type": "execute_result",
          "data": {
            "text/plain": [
              "tensor([[0.5098, 1.1259, 0.9638],\n",
              "        [0.9448, 0.4670, 0.6286]])"
            ]
          },
          "metadata": {},
          "execution_count": 85
        }
      ]
    },
    {
      "cell_type": "code",
      "source": [
        "m.relu_() # will store the value in the m"
      ],
      "metadata": {
        "colab": {
          "base_uri": "https://localhost:8080/"
        },
        "id": "M_s6WQ0pAuTG",
        "outputId": "ed5ed8e9-b063-439f-eadb-3500d6f1f0d3"
      },
      "execution_count": 86,
      "outputs": [
        {
          "output_type": "execute_result",
          "data": {
            "text/plain": [
              "tensor([[0.5098, 1.1259, 0.9638],\n",
              "        [0.9448, 0.4670, 0.6286]])"
            ]
          },
          "metadata": {},
          "execution_count": 86
        }
      ]
    },
    {
      "cell_type": "code",
      "source": [
        "m"
      ],
      "metadata": {
        "colab": {
          "base_uri": "https://localhost:8080/"
        },
        "id": "sucQ4iPYAyqn",
        "outputId": "e5381fb8-abe8-4278-fb18-1ac71cf2bb78"
      },
      "execution_count": 87,
      "outputs": [
        {
          "output_type": "execute_result",
          "data": {
            "text/plain": [
              "tensor([[0.5098, 1.1259, 0.9638],\n",
              "        [0.9448, 0.4670, 0.6286]])"
            ]
          },
          "metadata": {},
          "execution_count": 87
        }
      ]
    },
    {
      "cell_type": "markdown",
      "source": [
        "## Copying a Tensor"
      ],
      "metadata": {
        "id": "7-SgjcqnCN9P"
      }
    },
    {
      "cell_type": "code",
      "source": [
        "a = torch.rand(2,3)\n",
        "a"
      ],
      "metadata": {
        "colab": {
          "base_uri": "https://localhost:8080/"
        },
        "id": "z8SCsW7kA0jt",
        "outputId": "a7aebe4a-4317-45e5-99f1-fbdef7b139e8"
      },
      "execution_count": 88,
      "outputs": [
        {
          "output_type": "execute_result",
          "data": {
            "text/plain": [
              "tensor([[0.9186, 0.2131, 0.3957],\n",
              "        [0.6017, 0.4234, 0.5224]])"
            ]
          },
          "metadata": {},
          "execution_count": 88
        }
      ]
    },
    {
      "cell_type": "code",
      "source": [
        "b = a # this wont work , because b and a will point to same memory loc, change in a will also be in b"
      ],
      "metadata": {
        "id": "3Z0IUCnpCsCv"
      },
      "execution_count": 89,
      "outputs": []
    },
    {
      "cell_type": "code",
      "source": [
        "print(id(b))\n",
        "print(id(a))"
      ],
      "metadata": {
        "colab": {
          "base_uri": "https://localhost:8080/"
        },
        "id": "1YNvboxaECjm",
        "outputId": "0fd5b6d9-ddc3-4996-abdd-408f57145a0f"
      },
      "execution_count": 90,
      "outputs": [
        {
          "output_type": "stream",
          "name": "stdout",
          "text": [
            "134290764000976\n",
            "134290764000976\n"
          ]
        }
      ]
    },
    {
      "cell_type": "code",
      "source": [
        "# clone: Creates a copy of tensor a and stores it in tensor b\n",
        "b = a.clone()\n",
        "\n",
        "# Note: .clone() is used to create a deep copy of the tensor, preserving the original tensor a.\n"
      ],
      "metadata": {
        "id": "KWDEt8h8EW2i"
      },
      "execution_count": 91,
      "outputs": []
    },
    {
      "cell_type": "code",
      "source": [
        "a"
      ],
      "metadata": {
        "colab": {
          "base_uri": "https://localhost:8080/"
        },
        "id": "ndhb6dktEcov",
        "outputId": "ddd5d938-7dbe-4a3b-adfd-5acfe19457da"
      },
      "execution_count": 92,
      "outputs": [
        {
          "output_type": "execute_result",
          "data": {
            "text/plain": [
              "tensor([[0.9186, 0.2131, 0.3957],\n",
              "        [0.6017, 0.4234, 0.5224]])"
            ]
          },
          "metadata": {},
          "execution_count": 92
        }
      ]
    },
    {
      "cell_type": "code",
      "source": [
        "b"
      ],
      "metadata": {
        "colab": {
          "base_uri": "https://localhost:8080/"
        },
        "id": "M1MgVSoXEd2E",
        "outputId": "1a8402b2-ceff-411f-bb5a-4af5249ad817"
      },
      "execution_count": 93,
      "outputs": [
        {
          "output_type": "execute_result",
          "data": {
            "text/plain": [
              "tensor([[0.9186, 0.2131, 0.3957],\n",
              "        [0.6017, 0.4234, 0.5224]])"
            ]
          },
          "metadata": {},
          "execution_count": 93
        }
      ]
    },
    {
      "cell_type": "code",
      "source": [
        "a[0][0] = 10"
      ],
      "metadata": {
        "id": "LGxrfDtTEeVI"
      },
      "execution_count": 94,
      "outputs": []
    },
    {
      "cell_type": "code",
      "source": [
        "a"
      ],
      "metadata": {
        "colab": {
          "base_uri": "https://localhost:8080/"
        },
        "id": "KoGwR1k2Eg_1",
        "outputId": "100c49c8-f236-4452-b078-ee55e80d0b53"
      },
      "execution_count": 95,
      "outputs": [
        {
          "output_type": "execute_result",
          "data": {
            "text/plain": [
              "tensor([[10.0000,  0.2131,  0.3957],\n",
              "        [ 0.6017,  0.4234,  0.5224]])"
            ]
          },
          "metadata": {},
          "execution_count": 95
        }
      ]
    },
    {
      "cell_type": "code",
      "source": [
        "b"
      ],
      "metadata": {
        "id": "hnmU7qDXEh_R",
        "outputId": "a2cfa790-d205-483d-d5a1-36c38e6dcb35",
        "colab": {
          "base_uri": "https://localhost:8080/"
        }
      },
      "execution_count": 96,
      "outputs": [
        {
          "output_type": "execute_result",
          "data": {
            "text/plain": [
              "tensor([[0.9186, 0.2131, 0.3957],\n",
              "        [0.6017, 0.4234, 0.5224]])"
            ]
          },
          "metadata": {},
          "execution_count": 96
        }
      ]
    },
    {
      "cell_type": "code",
      "source": [
        "id(a)"
      ],
      "metadata": {
        "id": "5cy76FS5EjIz",
        "outputId": "8eb08da2-4579-44ac-a1d7-09fc005bf68b",
        "colab": {
          "base_uri": "https://localhost:8080/"
        }
      },
      "execution_count": 97,
      "outputs": [
        {
          "output_type": "execute_result",
          "data": {
            "text/plain": [
              "134290764000976"
            ]
          },
          "metadata": {},
          "execution_count": 97
        }
      ]
    },
    {
      "cell_type": "code",
      "source": [
        "id(b)"
      ],
      "metadata": {
        "id": "jmBkTNQ8EmP1",
        "outputId": "f0a0ac64-887a-4b56-f5a3-9022dc823908",
        "colab": {
          "base_uri": "https://localhost:8080/"
        }
      },
      "execution_count": 98,
      "outputs": [
        {
          "output_type": "execute_result",
          "data": {
            "text/plain": [
              "134290764001360"
            ]
          },
          "metadata": {},
          "execution_count": 98
        }
      ]
    },
    {
      "cell_type": "markdown",
      "source": [
        "### Tensor Operations on GPU :"
      ],
      "metadata": {
        "id": "ExJOcUYT074a"
      }
    },
    {
      "cell_type": "code",
      "source": [
        "# device: Specifies the device (CUDA GPU) for tensor operations\n",
        "device = torch.device('cuda')\n",
        "\n",
        "# Note: 'cuda' refers to the GPU device, allowing operations to be performed on the GPU."
      ],
      "metadata": {
        "id": "IR4lGw5b0-Px"
      },
      "execution_count": 3,
      "outputs": []
    },
    {
      "cell_type": "code",
      "source": [
        "# creating a new tensor on GPU :\n",
        "\n",
        "torch.rand((2,3),device=device)"
      ],
      "metadata": {
        "colab": {
          "base_uri": "https://localhost:8080/"
        },
        "id": "9AWqMWCP1Dcr",
        "outputId": "963b094f-71f9-4b8e-d1f1-cc7bf4b97f62"
      },
      "execution_count": 4,
      "outputs": [
        {
          "output_type": "execute_result",
          "data": {
            "text/plain": [
              "tensor([[0.6481, 0.1049, 0.9670],\n",
              "        [0.7654, 0.7882, 0.9910]], device='cuda:0')"
            ]
          },
          "metadata": {},
          "execution_count": 4
        }
      ]
    },
    {
      "cell_type": "code",
      "source": [
        "a = torch.rand((2,3))\n",
        "a"
      ],
      "metadata": {
        "colab": {
          "base_uri": "https://localhost:8080/"
        },
        "id": "pN__seEB1NGc",
        "outputId": "92af19e2-0cb2-4760-b750-ec4468b0721b"
      },
      "execution_count": 5,
      "outputs": [
        {
          "output_type": "execute_result",
          "data": {
            "text/plain": [
              "tensor([[0.1924, 0.5041, 0.8661],\n",
              "        [0.1753, 0.5761, 0.7264]])"
            ]
          },
          "metadata": {},
          "execution_count": 5
        }
      ]
    },
    {
      "cell_type": "code",
      "source": [
        "# moving an existing tensor to GPU :\n",
        "b = a.to(device)\n",
        "b"
      ],
      "metadata": {
        "colab": {
          "base_uri": "https://localhost:8080/"
        },
        "id": "i6FDWfba1WNi",
        "outputId": "c4fcca90-f130-4408-e16e-23ea8e85fa60"
      },
      "execution_count": 6,
      "outputs": [
        {
          "output_type": "execute_result",
          "data": {
            "text/plain": [
              "tensor([[0.1924, 0.5041, 0.8661],\n",
              "        [0.1753, 0.5761, 0.7264]], device='cuda:0')"
            ]
          },
          "metadata": {},
          "execution_count": 6
        }
      ]
    },
    {
      "cell_type": "code",
      "source": [
        "# now all operations on b will be on GPU :\n",
        "\n",
        "b+7"
      ],
      "metadata": {
        "colab": {
          "base_uri": "https://localhost:8080/"
        },
        "id": "CeIDU5Qo1avA",
        "outputId": "00bae2da-6ad1-45ef-af9d-82f946aa8785"
      },
      "execution_count": 7,
      "outputs": [
        {
          "output_type": "execute_result",
          "data": {
            "text/plain": [
              "tensor([[7.1924, 7.5041, 7.8661],\n",
              "        [7.1753, 7.5761, 7.7264]], device='cuda:0')"
            ]
          },
          "metadata": {},
          "execution_count": 7
        }
      ]
    },
    {
      "cell_type": "markdown",
      "source": [
        "### Benefits of Performing Tensor Operations on a GPU:  \n",
        "1. **Parallel Processing:** GPUs have thousands of cores optimized for parallel execution, making tensor computations significantly faster.  \n",
        "2. **High Throughput:** GPUs can handle large-scale matrix and tensor operations simultaneously, improving performance in deep learning and scientific computing.  \n",
        "3. **Optimized Libraries:** Libraries like CUDA, cuDNN, and TensorFlow leverage GPU acceleration for efficient tensor operations.  \n",
        "4. **Reduced CPU Load:** Offloading tensor operations to a GPU frees up the CPU for other tasks, enhancing overall system efficiency.  \n",
        "5. **Memory Bandwidth:** GPUs have high memory bandwidth, allowing faster data transfer and processing for large datasets.  \n",
        "6. **Scalability:** GPUs support distributed computing, enabling scaling across multiple devices for increased performance.  \n",
        "7. **Lower Latency for AI Tasks:** Deep learning models benefit from lower latency during training and inference, improving real-time applications."
      ],
      "metadata": {
        "id": "UFasgK-a2GSk"
      }
    },
    {
      "cell_type": "code",
      "source": [
        "import torch\n",
        "import time\n",
        "\n",
        "# Define matrix size\n",
        "size = 1000  # Large matrix for better comparison\n",
        "\n",
        "# Create two random matrices\n",
        "A = torch.randn(size, size)\n",
        "B = torch.randn(size, size)\n",
        "\n",
        "# Perform operation on CPU\n",
        "start_cpu = time.time()\n",
        "C_cpu = torch.matmul(A, B)  # Matrix multiplication on CPU\n",
        "end_cpu = time.time()\n",
        "cpu_time = end_cpu - start_cpu\n",
        "\n",
        "# Move tensors to GPU\n",
        "A_gpu = A.to(\"cuda\")\n",
        "B_gpu = B.to(\"cuda\")\n",
        "\n",
        "# Perform operation on GPU\n",
        "start_gpu = time.time()\n",
        "C_gpu = torch.matmul(A_gpu, B_gpu)  # Matrix multiplication on GPU\n",
        "torch.cuda.synchronize()  # Ensure operation completes before measuring time\n",
        "end_gpu = time.time()\n",
        "gpu_time = end_gpu - start_gpu\n",
        "\n",
        "# Print results\n",
        "print(f\"CPU Time: {cpu_time:.6f} sec\")\n",
        "print(f\"GPU Time: {gpu_time:.6f} sec\")\n",
        "print(f\"Speedup: {cpu_time / gpu_time:.2f} times faster ! \")"
      ],
      "metadata": {
        "colab": {
          "base_uri": "https://localhost:8080/"
        },
        "id": "CuOwYTqx1ftJ",
        "outputId": "c243151b-b3a9-45d1-97c0-02419e52a740"
      },
      "execution_count": 14,
      "outputs": [
        {
          "output_type": "stream",
          "name": "stdout",
          "text": [
            "CPU Time: 0.017822 sec\n",
            "GPU Time: 0.000964 sec\n",
            "Speedup: 18.48 times faster ! \n"
          ]
        }
      ]
    },
    {
      "cell_type": "markdown",
      "source": [
        "### Reshaping Tensors :"
      ],
      "metadata": {
        "id": "RrsPdvfs3P-9"
      }
    },
    {
      "cell_type": "code",
      "source": [
        "a = torch.rand(4,4)\n",
        "a"
      ],
      "metadata": {
        "colab": {
          "base_uri": "https://localhost:8080/"
        },
        "id": "9IfIyUzY2Me6",
        "outputId": "89a5c748-5fb9-42c2-80fc-e19ecb694ff3"
      },
      "execution_count": 8,
      "outputs": [
        {
          "output_type": "execute_result",
          "data": {
            "text/plain": [
              "tensor([[0.9710, 0.4317, 0.7493, 0.0796],\n",
              "        [0.2866, 0.6961, 0.8630, 0.4532],\n",
              "        [0.6028, 0.5544, 0.8733, 0.3295],\n",
              "        [0.2327, 0.7370, 0.9360, 0.6394]])"
            ]
          },
          "metadata": {},
          "execution_count": 8
        }
      ]
    },
    {
      "cell_type": "code",
      "source": [
        "# reshape: Reshapes tensor a to the new shape (8, 2)\n",
        "a.reshape(8, 2)\n"
      ],
      "metadata": {
        "colab": {
          "base_uri": "https://localhost:8080/"
        },
        "id": "DFqvU6x-3XQu",
        "outputId": "a10a917a-dd24-4463-e591-17cb3cfc8542"
      },
      "execution_count": 9,
      "outputs": [
        {
          "output_type": "execute_result",
          "data": {
            "text/plain": [
              "tensor([[0.9710, 0.4317],\n",
              "        [0.7493, 0.0796],\n",
              "        [0.2866, 0.6961],\n",
              "        [0.8630, 0.4532],\n",
              "        [0.6028, 0.5544],\n",
              "        [0.8733, 0.3295],\n",
              "        [0.2327, 0.7370],\n",
              "        [0.9360, 0.6394]])"
            ]
          },
          "metadata": {},
          "execution_count": 9
        }
      ]
    },
    {
      "cell_type": "code",
      "source": [
        "a.reshape(2,2,2,2)"
      ],
      "metadata": {
        "colab": {
          "base_uri": "https://localhost:8080/"
        },
        "id": "-qnespNm3gum",
        "outputId": "6def618c-56f6-4272-e25e-b01c56961929"
      },
      "execution_count": 10,
      "outputs": [
        {
          "output_type": "execute_result",
          "data": {
            "text/plain": [
              "tensor([[[[0.9710, 0.4317],\n",
              "          [0.7493, 0.0796]],\n",
              "\n",
              "         [[0.2866, 0.6961],\n",
              "          [0.8630, 0.4532]]],\n",
              "\n",
              "\n",
              "        [[[0.6028, 0.5544],\n",
              "          [0.8733, 0.3295]],\n",
              "\n",
              "         [[0.2327, 0.7370],\n",
              "          [0.9360, 0.6394]]]])"
            ]
          },
          "metadata": {},
          "execution_count": 10
        }
      ]
    },
    {
      "cell_type": "code",
      "source": [
        "# flatten() converts a multi-dimensional tensor into a 1D tensor while preserving the order of elements.\n",
        "a.flatten()"
      ],
      "metadata": {
        "colab": {
          "base_uri": "https://localhost:8080/"
        },
        "id": "ab8X3Ni67ZRE",
        "outputId": "c8f7ddd1-21b4-4963-bda2-b400bfc3452e"
      },
      "execution_count": 40,
      "outputs": [
        {
          "output_type": "execute_result",
          "data": {
            "text/plain": [
              "tensor([0.5147, 0.1202, 0.0508, 0.7234, 0.2742, 0.5891, 0.5385, 0.4060, 0.7700,\n",
              "        0.5564, 0.7768, 0.9418, 0.1319, 0.9462, 0.3954, 0.7353])"
            ]
          },
          "metadata": {},
          "execution_count": 40
        }
      ]
    },
    {
      "cell_type": "code",
      "source": [
        "# permute() rearranges the dimensions of a tensor in the specified order without changing its data.\n",
        "\n",
        "# Creating a tensor of shape (3, 4, 5)\n",
        "b = torch.randn(3, 4, 5)\n",
        "\n",
        "# Example:\n",
        "# Imagine you have a tensor of shape (3,4,5), which represents:\n",
        "# 3 -> Channels (like RGB)\n",
        "# 4 -> Height\n",
        "# 5 -> Width\n",
        "\n",
        "# Applying permute(2,1,0):\n",
        "# - Moves dim 2 (Width, 5) to the front\n",
        "# - Keeps dim 1 (Height, 4) in place\n",
        "# - Moves dim 0 (Channels, 3) to the last position\n",
        "# New shape: (5,4,3)\n",
        "permuted_b = b.permute(2, 1, 0)\n",
        "\n",
        "# Printing shapes\n",
        "print(\"Original shape:\", b.shape)        # torch.Size([3, 4, 5])\n",
        "print(\"Permuted shape:\", permuted_b.shape) # torch.Size([5, 4, 3])\n"
      ],
      "metadata": {
        "colab": {
          "base_uri": "https://localhost:8080/"
        },
        "id": "EUmHyY3i35Hn",
        "outputId": "119358d6-7b7c-423f-9f69-c5654f732406"
      },
      "execution_count": 38,
      "outputs": [
        {
          "output_type": "stream",
          "name": "stdout",
          "text": [
            "Original shape: torch.Size([3, 4, 5])\n",
            "Permuted shape: torch.Size([5, 4, 3])\n"
          ]
        }
      ]
    },
    {
      "cell_type": "code",
      "source": [
        "# unsqueeze() adds a new dimension at the specified position without changing the data.\n",
        "\n",
        "# Creating a tensor of shape (2, 3)\n",
        "a = torch.tensor([[1, 2, 3],\n",
        "                  [4, 5, 6]])\n",
        "\n",
        "# Example:\n",
        "# Imagine you have a tensor of shape (2,3), representing:\n",
        "# 2 -> Rows\n",
        "# 3 -> Columns\n",
        "\n",
        "# Applying unsqueeze(0): Adds a new dimension at position 0\n",
        "# New shape: (1, 2, 3)\n",
        "a_unsqueeze_0 = a.unsqueeze(0)\n",
        "\n",
        "# Applying unsqueeze(1): Adds a new dimension at position 1\n",
        "# New shape: (2, 1, 3)\n",
        "a_unsqueeze_1 = a.unsqueeze(1)\n",
        "\n",
        "# Printing shapes\n",
        "print(\"Original shape:\", a.shape)              # torch.Size([2, 3])\n",
        "print(\"After unsqueeze(0):\", a_unsqueeze_0.shape) # torch.Size([1, 2, 3])\n",
        "print(\"After unsqueeze(1):\", a_unsqueeze_1.shape) # torch.Size([2, 1, 3])"
      ],
      "metadata": {
        "colab": {
          "base_uri": "https://localhost:8080/"
        },
        "id": "OD7DwSca4G1G",
        "outputId": "b7596ab0-533c-4c13-c957-c8ed975bda0e"
      },
      "execution_count": 42,
      "outputs": [
        {
          "output_type": "stream",
          "name": "stdout",
          "text": [
            "Original shape: torch.Size([2, 3])\n",
            "After unsqueeze(0): torch.Size([1, 2, 3])\n",
            "After unsqueeze(1): torch.Size([2, 1, 3])\n"
          ]
        }
      ]
    },
    {
      "cell_type": "code",
      "source": [
        "# squeeze() removes dimensions of size 1 from the tensor.\n",
        "\n",
        "# Creating a tensor of shape (1, 3, 1, 4)\n",
        "a = torch.tensor([[[[1, 2, 3, 4]]], [[[5, 6, 7, 8]]]])\n",
        "\n",
        "# Example:\n",
        "# Imagine you have a tensor of shape (1, 3, 1, 4), which represents:\n",
        "# 1 -> Batch size or a single sample\n",
        "# 3 -> Channels or depth (e.g., RGB channels)\n",
        "# 1 -> A dimension with size 1 (could be a redundant dimension)\n",
        "# 4 -> Number of features (e.g., pixel values)\n",
        "\n",
        "# Applying squeeze(): Removes dimensions of size 1\n",
        "# New shape: (3, 4)\n",
        "a_squeezed = a.squeeze()\n",
        "\n",
        "# Printing shapes\n",
        "print(\"Original shape:\", a.shape)          # torch.Size([1, 3, 1, 4])\n",
        "print(\"After squeeze():\", a_squeezed.shape) # torch.Size([3, 4])\n"
      ],
      "metadata": {
        "colab": {
          "base_uri": "https://localhost:8080/"
        },
        "id": "3gOqI17876Fy",
        "outputId": "d69446a8-593d-4e93-c529-fb4fb5b50455"
      },
      "execution_count": 4,
      "outputs": [
        {
          "output_type": "stream",
          "name": "stdout",
          "text": [
            "Original shape: torch.Size([2, 1, 1, 4])\n",
            "After squeeze(): torch.Size([2, 4])\n"
          ]
        }
      ]
    },
    {
      "cell_type": "markdown",
      "source": [
        "### Converting Between Numpy and Pytorch :"
      ],
      "metadata": {
        "id": "yTPkH2LDNb2h"
      }
    },
    {
      "cell_type": "markdown",
      "source": [
        "#### torch to numpy :"
      ],
      "metadata": {
        "id": "afvA9CSxOKd1"
      }
    },
    {
      "cell_type": "code",
      "source": [
        "import numpy as np"
      ],
      "metadata": {
        "id": "tUj_Sli18dXw"
      },
      "execution_count": 20,
      "outputs": []
    },
    {
      "cell_type": "code",
      "source": [
        "a = torch.tensor([1,2,3])\n",
        "a"
      ],
      "metadata": {
        "colab": {
          "base_uri": "https://localhost:8080/"
        },
        "id": "OAa2QXIONiUz",
        "outputId": "a2739956-182f-4fe6-e25d-3b3dc4c6dace"
      },
      "execution_count": 21,
      "outputs": [
        {
          "output_type": "execute_result",
          "data": {
            "text/plain": [
              "tensor([1, 2, 3])"
            ]
          },
          "metadata": {},
          "execution_count": 21
        }
      ]
    },
    {
      "cell_type": "code",
      "source": [
        "# numpy: Converts tensor a to a NumPy array\n",
        "b = a.numpy()\n"
      ],
      "metadata": {
        "id": "lNb66rCuN6pH"
      },
      "execution_count": 22,
      "outputs": []
    },
    {
      "cell_type": "code",
      "source": [
        "type(b)"
      ],
      "metadata": {
        "colab": {
          "base_uri": "https://localhost:8080/"
        },
        "id": "MUb1azirN91e",
        "outputId": "4e7f637a-e0b8-430d-a244-28f487a8ddae"
      },
      "execution_count": 23,
      "outputs": [
        {
          "output_type": "execute_result",
          "data": {
            "text/plain": [
              "numpy.ndarray"
            ]
          },
          "metadata": {},
          "execution_count": 23
        }
      ]
    },
    {
      "cell_type": "markdown",
      "source": [
        "#### numpy to torch :"
      ],
      "metadata": {
        "id": "GtJQtE0aONPK"
      }
    },
    {
      "cell_type": "code",
      "source": [
        "c = np.array([1,2,3,4])\n",
        "c"
      ],
      "metadata": {
        "colab": {
          "base_uri": "https://localhost:8080/"
        },
        "id": "i52QbEn3OD6j",
        "outputId": "6d821851-50fd-401b-f58e-3c9fcc4dd8a0"
      },
      "execution_count": 24,
      "outputs": [
        {
          "output_type": "execute_result",
          "data": {
            "text/plain": [
              "array([1, 2, 3, 4])"
            ]
          },
          "metadata": {},
          "execution_count": 24
        }
      ]
    },
    {
      "cell_type": "code",
      "source": [
        "# from_numpy: Converts a NumPy array c to a PyTorch tensor\n",
        "d = torch.from_numpy(c)"
      ],
      "metadata": {
        "id": "ly6f4l_7OWSt"
      },
      "execution_count": 25,
      "outputs": []
    },
    {
      "cell_type": "markdown",
      "source": [
        "Congratulations! You reached the bottom of the code. No prize, but you can take a deep breath and feel accomplished. 🎉"
      ],
      "metadata": {
        "id": "xSsxVIg6W0Vn"
      }
    }
  ]
}