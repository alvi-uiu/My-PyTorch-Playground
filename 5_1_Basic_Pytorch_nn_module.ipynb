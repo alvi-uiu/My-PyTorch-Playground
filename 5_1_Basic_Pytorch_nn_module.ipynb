{
  "nbformat": 4,
  "nbformat_minor": 0,
  "metadata": {
    "colab": {
      "provenance": []
    },
    "kernelspec": {
      "name": "python3",
      "display_name": "Python 3"
    },
    "language_info": {
      "name": "python"
    }
  },
  "cells": [
    {
      "cell_type": "code",
      "source": [
        "import torch\n",
        "import torch.nn as nn\n",
        "\n",
        "# Define a neural network model class\n",
        "class Model(nn.Module):  # Inheriting from nn.Module (base class for all PyTorch models)\n",
        "\n",
        "  def __init__(self, num_features):  # Constructor to initialize the model\n",
        "    super().__init__()  # Calls the parent class (nn.Module) constructor, necessary for PyTorch models\n",
        "\n",
        "    # Define the neural network layers\n",
        "    self.network = nn.Sequential(  # nn.Sequential() groups layers together for a forward pass\n",
        "        nn.Linear(num_features, 3),  # Fully connected layer: Input size = num_features, Output size = 3\n",
        "        nn.ReLU(),  # Activation function: Applies ReLU (Rectified Linear Unit) to introduce non-linearity\n",
        "        nn.Linear(3, 1),  # Fully connected layer: Input size = 3, Output size = 1\n",
        "        nn.Sigmoid()  # Activation function: Sigmoid to get probabilities (for binary classification)\n",
        "    )\n",
        "\n",
        "  def forward(self, features):  # Forward method defines how the input flows through the network\n",
        "    out = self.network(features)  # Pass input through the defined layers\n",
        "    return out  # Return the final output\n",
        "\n",
        "# Note: This model processes 'num_features' as input and outputs a probability for binary classification.\n"
      ],
      "metadata": {
        "id": "oJvxf-ftpdEy"
      },
      "execution_count": 1,
      "outputs": []
    },
    {
      "cell_type": "code",
      "source": [
        "# Create dataset: Random tensor with 10 samples and 5 features\n",
        "features = torch.rand(10, 5)  # Shape: (10,5) -> 10 data points, each with 5 features\n",
        "\n",
        "# Create model instance with input size equal to number of features\n",
        "model = Model(features.shape[1])  # features.shape[1] gives the number of features (5)\n",
        "\n",
        "# Call model for forward pass\n",
        "# model.forward(features) -> Explicit call (not needed, calling model directly does the same)\n",
        "output = model(features)  # Pass features through the model\n",
        "\n",
        "# Note: Calling the model like 'model(features)' automatically invokes the forward() method.\n"
      ],
      "metadata": {
        "id": "I_Tbf5p6sQQI"
      },
      "execution_count": 2,
      "outputs": []
    },
    {
      "cell_type": "code",
      "source": [
        "!pip install torchinfo"
      ],
      "metadata": {
        "colab": {
          "base_uri": "https://localhost:8080/"
        },
        "id": "qcER5vK3saCz",
        "outputId": "d3b34bda-656b-4c2f-d5f8-6f7aa4d82586"
      },
      "execution_count": 4,
      "outputs": [
        {
          "output_type": "stream",
          "name": "stdout",
          "text": [
            "Collecting torchinfo\n",
            "  Downloading torchinfo-1.8.0-py3-none-any.whl.metadata (21 kB)\n",
            "Downloading torchinfo-1.8.0-py3-none-any.whl (23 kB)\n",
            "Installing collected packages: torchinfo\n",
            "Successfully installed torchinfo-1.8.0\n"
          ]
        }
      ]
    },
    {
      "cell_type": "code",
      "source": [
        "from torchinfo import summary\n",
        "\n",
        "summary(model, input_size=(10, 5))"
      ],
      "metadata": {
        "id": "ah9VjT_dxiJD",
        "colab": {
          "base_uri": "https://localhost:8080/"
        },
        "outputId": "98da2fc6-3efd-4604-f8d5-48479a72078f"
      },
      "execution_count": 5,
      "outputs": [
        {
          "output_type": "execute_result",
          "data": {
            "text/plain": [
              "==========================================================================================\n",
              "Layer (type:depth-idx)                   Output Shape              Param #\n",
              "==========================================================================================\n",
              "Model                                    [10, 1]                   --\n",
              "├─Sequential: 1-1                        [10, 1]                   --\n",
              "│    └─Linear: 2-1                       [10, 3]                   18\n",
              "│    └─ReLU: 2-2                         [10, 3]                   --\n",
              "│    └─Linear: 2-3                       [10, 1]                   4\n",
              "│    └─Sigmoid: 2-4                      [10, 1]                   --\n",
              "==========================================================================================\n",
              "Total params: 22\n",
              "Trainable params: 22\n",
              "Non-trainable params: 0\n",
              "Total mult-adds (Units.MEGABYTES): 0.00\n",
              "==========================================================================================\n",
              "Input size (MB): 0.00\n",
              "Forward/backward pass size (MB): 0.00\n",
              "Params size (MB): 0.00\n",
              "Estimated Total Size (MB): 0.00\n",
              "=========================================================================================="
            ]
          },
          "metadata": {},
          "execution_count": 5
        }
      ]
    },
    {
      "cell_type": "markdown",
      "source": [
        "### **Explanation of `nn.Module` and Its Components**  \n",
        "\n",
        "\n",
        "### **Key Concepts**\n",
        "1. **`nn.Module` (Base Class for Models)**  \n",
        "   - Provides a framework to define and manage layers, weights, and forward computation.\n",
        "\n",
        "2. **`__init__` Method (Model Initialization)**\n",
        "   - Calls `super().__init__()` to inherit PyTorch’s model functionalities.\n",
        "   - Defines layers using `nn.Sequential()` for structured layer execution.\n",
        "\n",
        "3. **`forward()` Method (Defines Computation)**\n",
        "   - Specifies how the input propagates through layers.\n",
        "   - Uses `self.network(features)` to process input through all layers.\n",
        "\n",
        "4. **Layer Breakdown**\n",
        "   - **`nn.Linear(in, out)`** → Fully connected (Dense) layer.\n",
        "   - **`nn.ReLU()`** → Activation function for non-linearity.\n",
        "   - **`nn.Sigmoid()`** → Outputs a probability (for binary classification).\n",
        "\n"
      ],
      "metadata": {
        "id": "FiYitWLrsH0y"
      }
    }
  ]
}